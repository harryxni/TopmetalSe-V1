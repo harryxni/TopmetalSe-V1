{
 "cells": [
  {
   "cell_type": "markdown",
   "id": "74391356",
   "metadata": {},
   "source": [
    "# Pixel Amplifier Testing & Calibration via Guard Ring\n",
    "\n",
    "In order to test the Charge Sensitive Amplifiers (CSA) within the pixels, we need to inject charge into the inputs of the amplifiers. We do this using the parasitic capacitance of the guard ring structure, which surrounds the topmetal input electrodes of the pixels. By injecting a known square wave pulse into the guard ring, we can look at the corresponding pixel response to calibrate our amplifiers.\n",
    "\n",
    "Let's take a look at this by selecting out a single pixel from the array (which we do by stopping the clock on that pixel) and injecting a pulse."
   ]
  },
  {
   "cell_type": "code",
   "execution_count": null,
   "id": "fe0b3250",
   "metadata": {},
   "outputs": [],
   "source": []
  }
 ],
 "metadata": {
  "kernelspec": {
   "display_name": "Python 3 (ipykernel)",
   "language": "python",
   "name": "python3"
  },
  "language_info": {
   "codemirror_mode": {
    "name": "ipython",
    "version": 3
   },
   "file_extension": ".py",
   "mimetype": "text/x-python",
   "name": "python",
   "nbconvert_exporter": "python",
   "pygments_lexer": "ipython3",
   "version": "3.10.12"
  }
 },
 "nbformat": 4,
 "nbformat_minor": 5
}
