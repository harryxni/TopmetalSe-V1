{
 "cells": [
  {
   "cell_type": "markdown",
   "id": "cc749b5d",
   "metadata": {},
   "source": [
    "# Pixel Amplifier Testing & Calibration via Guard Ring\n",
    "\n",
    "In order to test the Charge Sensitive Amplifiers (CSA) within the pixels, we need to inject charge into the inputs of the amplifiers. We do this using the parasitic capacitance of the guard ring structure, which surrounds the topmetal input electrodes of the pixels. By injecting a known square wave pulse into the guard ring, we can look at the corresponding pixel response to calibrate our amplifiers.\n",
    "\n",
    "Let's take a look at this by selecting out a single pixel from the array (which we do by stopping the clock on that pixel) and injecting a pulse."
   ]
  },
  {
   "cell_type": "code",
   "execution_count": null,
   "id": "7f2388ae",
   "metadata": {},
   "outputs": [],
   "source": [
    "#Initial block to set defaul\n",
    "import matplotlib.pyplot as plt\n",
    "import filter_methods as f_methods\n",
    "import numpy as np\n",
    "import matplotlib as mpl\n",
    "from scipy.special import expit\n",
    "from scipy.optimize import curve_fit\n",
    "\n",
    "mpl.rc('font', family='serif', size=12)\n",
    "mpl.rcParams['xtick.labelsize'] = 14\n",
    "mpl.rcParams['ytick.labelsize'] = 14\n",
    "mpl.rcParams['xtick.major.size'] = 5\n",
    "mpl.rcParams['ytick.major.size'] = 5\n",
    " \n",
    "mpl.rcParams['axes.titlesize'] = 18\n",
    "mpl.rcParams['axes.labelsize'] = 18\n",
    "\n",
    "mpl.rc('axes', titlesize=20)\n",
    "mpl.rcParams['figure.figsize'] = [10, 10]\n",
    "import uproot"
   ]
  }
 ],
 "metadata": {
  "kernelspec": {
   "display_name": "Python 3 (ipykernel)",
   "language": "python",
   "name": "python3"
  },
  "language_info": {
   "codemirror_mode": {
    "name": "ipython",
    "version": 3
   },
   "file_extension": ".py",
   "mimetype": "text/x-python",
   "name": "python",
   "nbconvert_exporter": "python",
   "pygments_lexer": "ipython3",
   "version": "3.10.12"
  }
 },
 "nbformat": 4,
 "nbformat_minor": 5
}
